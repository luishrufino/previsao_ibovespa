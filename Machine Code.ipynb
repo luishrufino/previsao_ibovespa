{
 "cells": [
  {
   "cell_type": "code",
   "execution_count": null,
   "metadata": {},
   "outputs": [],
   "source": [
    "import numpy as np\n",
    "import pandas as pd\n",
    "import requests as rq\n",
    "import matplotlib.pyplot as plt\n",
    "\n",
    "from prophet import Prophet\n",
    "from xgboost import XGBRegressor\n",
    "from bs4 import BeautifulSoup as bs\n",
    "from statsmodels.tsa.arima.model import ARIMA\n",
    "from statsmodels.tsa.stattools import adfuller\n",
    "from datetime import timedelta, date, datetime\n",
    "from sklearn.model_selection import TimeSeriesSplit\n",
    "from statsmodels.tsa.statespace.sarimax import SARIMAX\n",
    "from statsmodels.graphics.tsaplots import plot_acf, plot_pacf\n",
    "from sklearn.metrics import mean_absolute_error, mean_squared_error, mean_absolute_percentage_error"
   ]
  },
  {
   "cell_type": "markdown",
   "metadata": {},
   "source": [
    "### ATUALIZAÇÃO DE DADOS"
   ]
  },
  {
   "cell_type": "code",
   "execution_count": null,
   "metadata": {},
   "outputs": [],
   "source": [
    "# Parâmetros do formulário (extraídos do site)\n",
    "headers = {\n",
    "    \"User-Agent\": \"Mozilla/5.0\",\n",
    "    \"X-Requested-With\": \"XMLHttpRequest\",\n",
    "    \"Content-Type\": \"application/x-www-form-urlencoded\"\n",
    "}\n",
    "\n",
    "\n",
    "# Requisição POST à API interna\n",
    "url = \"https://br.investing.com/indices/bovespa-historical-data\"\n",
    "response = rq.get(url, headers=headers)\n",
    "\n",
    "# Parsear HTML da resposta com BeautifulSoup\n",
    "soup = bs(response.content)\n",
    "tabela = soup.find(\"table\")\n",
    "\n",
    "# Converter a tabela para DataFrame\n",
    "actual_df = pd.read_html(str(tabela), parse_dates=['Data'], index_col='Data')[0].drop_duplicates()\n",
    "\n",
    "today = date.today()\n",
    "actual_df = actual_df.query(\"index < @today\")\n",
    "actual_df['Var%'] = actual_df['Var%'] .str.replace('+', '')"
   ]
  },
  {
   "cell_type": "markdown",
   "metadata": {},
   "source": [
    "### TRATAMENTOS INICIAIS"
   ]
  },
  {
   "cell_type": "code",
   "execution_count": null,
   "metadata": {},
   "outputs": [],
   "source": [
    "historic_df = pd.read_csv(r'Base de Dados//Dados Históricos - Ibovespa.csv', parse_dates=['Data'], index_col='Data')\n",
    "historic_df = pd.concat([historic_df, actual_df])\n",
    "\n",
    "historic_df = historic_df[~historic_df.index.duplicated(keep='last')]\n",
    "historic_df = historic_df.sort_index()\n",
    "\n",
    "\n",
    "historic_df.to_csv(r'Base de Dados//Dados Históricos - Ibovespa.csv')\n",
    "\n",
    "historic_df = historic_df.sort_index()\n",
    "\n",
    "historic_df['Var%'] = historic_df['Var%'].str.replace('%', '').str.replace(',', '.').astype(float)\n",
    "\n",
    "historic_df['Vol.'] = historic_df['Vol.'].str.replace(',', '.')\n",
    "\n",
    "historic_df['Vol.'] = historic_df['Vol.'].apply(\n",
    "    lambda x: float(str(x)[:-1].replace(',', '.'))/1_000  if str(x)[-1] == 'K'\n",
    "    else float(str(x)[:-1].replace(',', '.')) if str(x)[-1] == 'M'\n",
    "    else float(str(x)[:-1].replace(',', '.')) * 1_000 if str(x)[-1] == 'B'\n",
    "    else float(str(x).replace(',', '.'))/1_000_000 )\n",
    "\n",
    "historic_df.rename(columns={'Vol.':'Vol (M)'}, inplace=True)"
   ]
  },
  {
   "cell_type": "markdown",
   "metadata": {},
   "source": [
    "### CRIAÇÃO DE TREND LINE"
   ]
  },
  {
   "cell_type": "code",
   "execution_count": null,
   "metadata": {},
   "outputs": [],
   "source": [
    "delta_date = historic_df['Último'].iloc[-1] - historic_df['Último'].iloc[0]\n",
    "line_trend = delta_date/(len(historic_df)-1)\n",
    "historic_df['Trend'] = (line_trend * range(len(historic_df))) + historic_df['Último'].iloc[0]"
   ]
  },
  {
   "cell_type": "markdown",
   "metadata": {},
   "source": [
    "### PLOT PARA AVALIAÇÃO INICIAL"
   ]
  },
  {
   "cell_type": "code",
   "execution_count": null,
   "metadata": {},
   "outputs": [],
   "source": [
    "fig, ax = plt.subplots(figsize=(12,6))\n",
    "\n",
    "# Plot da média móvel da variação percentual no eixo primário\n",
    "line1, = ax.plot(historic_df.index, historic_df['Var%'].rolling(window=30).mean(), color='blue', label='Variação %')\n",
    "ax.plot(historic_df.index, historic_df['Var%'].rolling(window=30).mean(), color='blue', label='Variação %')\n",
    "ax.set_xlabel('Data')\n",
    "ax.set_ylabel('Variação da Bolsa (%)')\n",
    "ax.tick_params(axis='y')\n",
    "\n",
    "# Criação do segundo eixo Y (para o fechamento da bolsa)\n",
    "ay = ax.twinx()\n",
    "line2, = ay.plot(historic_df.index, historic_df['Último'].rolling(window=30).mean(), color='red', label='Fechamento Valor')\n",
    "ay.plot(historic_df.index, historic_df['Último'].rolling(window=30).mean(), color='red', label='Fechamento Valor')\n",
    "line3, = ay.plot(historic_df.index, historic_df['Trend'].rolling(window=30).mean(), \n",
    "                 color='black', linewidth=1, linestyle='--', label='Trend Line')\n",
    "ay.plot(historic_df.index, historic_df['Trend'].rolling(window=30).mean(),\n",
    "         color='black', linewidth=1, linestyle='--', label='Trend Line')\n",
    "ay.set_ylabel('Fechamento da Bolsa')\n",
    "ay.tick_params(axis='y')\n",
    "\n",
    "# Título e layout\n",
    "lines = [line3, line1, line2]\n",
    "labels = [line.get_label() for line in lines]\n",
    "ax.legend(lines, labels, loc='upper left')\n",
    "\n",
    "plt.title('Média Móvel 30 dias - Variação % e Fechamento')\n",
    "fig.tight_layout()\n",
    "\n",
    "# Exibir gráfico\n",
    "plt.show()"
   ]
  },
  {
   "cell_type": "markdown",
   "metadata": {},
   "source": [
    "### TESTE ADF SEM DIFF"
   ]
  },
  {
   "cell_type": "code",
   "execution_count": null,
   "metadata": {},
   "outputs": [],
   "source": [
    "historic_var_df = historic_df[['Último']]\n",
    "X = historic_var_df[['Último']].values\n",
    "\n",
    "result = adfuller(X)\n",
    "\n",
    "print(\"Teste ADF\")\n",
    "print(f\"Teste Estatístico: {result[0]}\")\n",
    "print(f\"P-Value: {result[1]}\")\n",
    "print(\"Valores críticos:\")\n",
    "\n",
    "for key, value in result[4].items():\n",
    "  print(f\"\\t{key}: {value}\")\n"
   ]
  },
  {
   "cell_type": "markdown",
   "metadata": {},
   "source": [
    "### CRIANDO BASE DE TREINO E TESTE"
   ]
  },
  {
   "cell_type": "code",
   "execution_count": 62,
   "metadata": {},
   "outputs": [
    {
     "name": "stdout",
     "output_type": "stream",
     "text": [
      "Period: 552.0 days\n"
     ]
    },
    {
     "data": {
      "image/png": "[encoded data removed]",
      "text/plain": [
       "<Figure size 1008x432 with 1 Axes>"
      ]
     },
     "metadata": {
      "needs_background": "light"
     },
     "output_type": "display_data"
    }
   ],
   "source": [
    "historic_df['day'] = historic_df.index.day\n",
    "historic_df['week_of_year'] = [dt.weekofyear for dt in historic_df.index]\n",
    "historic_df['month'] = historic_df.index.month\n",
    "historic_df['year'] = historic_df.index.year\n",
    "\n",
    "\n",
    "# Plot da ACF e PACF da série diferenciada\n",
    "plt.figure(figsize=(14, 6))\n",
    "plot_acf(historic_df[\"Último\"].dropna(), ax=plt.gca(), lags=40)\n",
    "plt.title(\"Função de Autocorrelação (ACF)\")\n",
    "\n",
    "\n",
    "# Define training and test sets\n",
    "n_lags = 40\n",
    "for lag in range(1, n_lags + 1):\n",
    "    historic_df[f'lag_{lag}'] = historic_df['Último'].shift(lag)\n",
    "\n",
    "\n",
    "# Rolling statistics\n",
    "historic_df[f'rolling_mean_{n_lags}'] = historic_df['Último'].rolling(window=n_lags).mean().shift(1)\n",
    "historic_df[f'rolling_std_{n_lags}'] = historic_df['Último'].rolling(window=n_lags).std().shift(1)\n",
    "\n",
    "# Exponential Moving Averages (EMA)\n",
    "historic_df[f'ema_{n_lags}'] = historic_df['Último'].ewm(span=n_lags).mean().shift(1)\n",
    "historic_df[f'ema_std_{n_lags}'] = historic_df['Último'].ewm(span=n_lags).std().shift(1)\n",
    "\n",
    "from scipy.signal import periodogram\n",
    "frequency, power = periodogram(historic_df['Último'].dropna(), fs=1)\n",
    "\n",
    "freq = frequency[np.argmax(power)]\n",
    "period = 1 / freq\n",
    "\n",
    "print(f'Period: {period} days')\n",
    "\n",
    "historic_df['fourier_sin'] = np.sin(2 * np.pi * freq * np.arange(len(historic_df)))\n",
    "historic_df['fourier_cos'] = np.cos(2 * np.pi * freq * np.arange(len(historic_df)))\n",
    "\n",
    "\n",
    "predictors = [\n",
    "    'day',\n",
    "    'week_of_year',\n",
    "    'month',\n",
    "    'year',\n",
    "    *['lag_{}'.format(i) for i in range(1, n_lags + 1)],\n",
    "    'rolling_mean_{n_lags}'.format(n_lags=n_lags),\n",
    "    'rolling_std_{n_lags}'.format(n_lags=n_lags),\n",
    "    'ema_{n_lags}'.format(n_lags=n_lags),\n",
    "    'ema_std_{n_lags}'.format(n_lags=n_lags),\n",
    "    'fourier_sin',\n",
    "    'fourier_cos',\n",
    "]\n",
    "\n",
    "\n",
    "train_end = (date.today()-timedelta(6)).strftime('%Y-%m-%d')\n",
    "\n",
    "df_train = historic_df.loc[:train_end]\n",
    "df_test = historic_df.loc[train_end:]"
   ]
  },
  {
   "cell_type": "markdown",
   "metadata": {},
   "source": [
    "### CRIANDO O NAIVE PREDICT"
   ]
  },
  {
   "cell_type": "code",
   "execution_count": null,
   "metadata": {},
   "outputs": [],
   "source": [
    "naive_pred = pd.Series(index=historic_df.index, dtype='float64')\n",
    "naive_pred.loc[df_train.index] = historic_df['Último'].shift(1).loc[df_train.index]\n",
    "last_train_value = historic_df['Último'].loc[df_train.index[-1]]\n",
    "naive_pred.loc[df_test.index] = last_train_value\n",
    "\n",
    "\n",
    "# Evaluation\n",
    "from sklearn.metrics import mean_squared_error\n",
    "\n",
    "mse_naive = mean_squared_error(df_test['Último'][1:], naive_pred.loc[df_test.index][1:])\n",
    "print(f'Naive Baseline MSE: {mse_naive}')"
   ]
  },
  {
   "cell_type": "markdown",
   "metadata": {},
   "source": [
    "### CRIANDO XGBoost PREDICT"
   ]
  },
  {
   "cell_type": "code",
   "execution_count": null,
   "metadata": {},
   "outputs": [],
   "source": [
    "\n",
    "# Define features and target\n",
    "X_train = df_train[predictors]\n",
    "y_train = df_train['Último']\n",
    "X_test = df_test[predictors]\n",
    "y_test = df_test['Último']\n",
    "\n",
    "# TimeSeriesSplit for validation\n",
    "tscv = TimeSeriesSplit(n_splits=100)\n",
    "xgb = XGBRegressor(objective='reg:squarederror')\n",
    "\n",
    "# Train with cross-validation\n",
    "xgb_models = []\n",
    "mse = []\n",
    "count = 0\n",
    "for train_idx, val_idx in tscv.split(X_train):\n",
    "    X_tr, X_val = X_train.iloc[train_idx], X_train.iloc[val_idx]\n",
    "    y_tr, y_val = y_train.iloc[train_idx], y_train.iloc[val_idx]\n",
    "    xgb.fit(X_tr, y_tr)\n",
    "    val_pred = xgb.predict(X_val)\n",
    "    # print(f'{count} Validation MSE: {mean_squared_error(y_val, val_pred)}')\n",
    "    count = count + 1 \n",
    "    mse.append(mean_squared_error(y_val, val_pred))\n",
    "    xgb_models.append(xgb)\n",
    "\n",
    "best_model_idx = mse.index(min(mse))\n",
    "print(f'Best Model Idx: {best_model_idx}')\n",
    "\n",
    "xgb = xgb_models[best_model_idx]\n",
    "\n",
    "# Predict on the test set\n",
    "xgb_pred = xgb.predict(X_test)\n",
    "mse_xgb = mean_squared_error(y_test, xgb_pred)\n",
    "print(f'XGBoost MSE: {mse_xgb}')\n",
    "\n",
    "xgb_pred_series = pd.Series(xgb_pred, index=df_test.index, name='pred')\n",
    "xgb_pred_df = xgb_pred_series.astype('float64')"
   ]
  },
  {
   "cell_type": "markdown",
   "metadata": {},
   "source": [
    "### CRIANDO ARIMA PREDICT"
   ]
  },
  {
   "cell_type": "code",
   "execution_count": null,
   "metadata": {},
   "outputs": [],
   "source": [
    "# Plot da ACF e PACF da série diferenciada\n",
    "plt.figure(figsize=(14, 6))\n",
    "plt.subplot(122)\n",
    "plot_pacf(historic_df[\"Último\"].dropna(), ax=plt.gca(), lags=40)\n",
    "plt.title(\"Função de Autocorrelação Parcial (PACF)\")\n",
    "plt.show()\n",
    "\n",
    "p = 3 \n",
    "d = 1\n",
    "q = 40\n",
    "\n",
    "model_arima = ARIMA(df_train[\"Último\"], order=(p, d, q))\n",
    "resultado_arima = model_arima.fit()\n",
    "\n",
    "arima_pred = resultado_arima.predict(start=len(df_train), end=len(df_train) + len(df_test) - 1)\n",
    "\n",
    "arima_mse = mean_squared_error(y_test, arima_pred)\n",
    "print(f'ARIMA MSE: {arima_mse}')\n",
    "\n",
    "arima_pred.index = df_test.index \n",
    "arima_pred_series = pd.Series(arima_pred, index=df_test.index, name='pred')\n",
    "arima_pred_df = arima_pred_series.astype('float64')"
   ]
  },
  {
   "cell_type": "markdown",
   "metadata": {},
   "source": [
    "### CRIANDO O PROPHET PREDICT"
   ]
  },
  {
   "cell_type": "code",
   "execution_count": null,
   "metadata": {},
   "outputs": [],
   "source": [
    "data = df_train[['Último']].copy()\n",
    "data['ds'] = data.index\n",
    "\n",
    "data.rename(columns={'Último': 'y'}, inplace=True)\n",
    "\n",
    "delta_days = (df_test.index[-1]-df_train.index[-1]).days\n",
    "\n",
    "\n",
    "# Ajustando o modelo Prophet com o seu DataFrame\n",
    "model = Prophet()\n",
    "model.fit(data)\n",
    "\n",
    "# Gerando o futuro para o número de dias calculado\n",
    "future = model.make_future_dataframe(periods=delta_days)\n",
    "\n",
    "# Fazendo a previsão\n",
    "prophet_pred = model.predict(future)\n",
    "\n",
    "\n",
    "fig = model.plot(prophet_pred)\n",
    "\n",
    "# Exibindo o gráfico\n",
    "plt.title('Previsão usando o Prophet')\n",
    "plt.show()\n",
    "\n",
    "prophet_pred.set_index('ds', inplace=True)\n",
    "prophet_pred_series = pd.Series(prophet_pred['yhat'], index=df_test.index, name='pred')\n",
    "prophet_pred_df = prophet_pred_series.astype('float64')\n"
   ]
  },
  {
   "cell_type": "markdown",
   "metadata": {},
   "source": [
    "### CRIANDO O RANDOM FOREST PREDICT"
   ]
  },
  {
   "cell_type": "code",
   "execution_count": null,
   "metadata": {},
   "outputs": [],
   "source": [
    "from sklearn.ensemble import RandomForestRegressor\n",
    "\n",
    "# Remover nulos após defasagens\n",
    "df_train_rf = df_train.dropna()\n",
    "X_train_rf = df_train_rf[predictors]\n",
    "y_train_rf = df_train_rf['Último']\n",
    "\n",
    "df_test_rf = df_test.dropna()\n",
    "X_test_rf = df_test_rf[predictors]\n",
    "y_test_rf = df_test_rf['Último'].loc[X_test_rf.index]\n",
    "\n",
    "# Modelo\n",
    "rf_model = RandomForestRegressor(n_estimators=100)\n",
    "\n",
    "\n",
    "\n",
    "rf_model.fit(X_train_rf, y_train_rf)\n",
    "rf_pred = rf_model.predict(X_test_rf)\n",
    "\n",
    "\n",
    "rf_pred_series = pd.Series(rf_pred, index=df_test.index, name='pred')\n",
    "rf_pred_df = rf_pred_series.astype('float64')"
   ]
  },
  {
   "cell_type": "markdown",
   "metadata": {},
   "source": [
    "### TESTE DE CONFIABILIDADE"
   ]
  },
  {
   "cell_type": "code",
   "execution_count": null,
   "metadata": {},
   "outputs": [],
   "source": [
    "\n",
    "mae_naive = mean_absolute_error(df_test['Último'], naive_pred[train_end:])\n",
    "rmse_naive = mean_squared_error(df_test['Último'], naive_pred[train_end:])\n",
    "mape_naive = 100 * mean_absolute_percentage_error(df_test['Último'], naive_pred[train_end:])\n",
    "\n",
    "mae_xgb = mean_absolute_error(df_test['Último'], xgb_pred)\n",
    "rmse_xgb = mean_squared_error(df_test['Último'], xgb_pred)\n",
    "mape_xgb = 100 * mean_absolute_percentage_error(df_test['Último'], xgb_pred)\n",
    "\n",
    "mae_arima = mean_absolute_error(df_test['Último'], arima_pred)\n",
    "rmse_arima = mean_squared_error(df_test['Último'], arima_pred)\n",
    "mape_arima = 100 * mean_absolute_percentage_error(df_test['Último'], arima_pred)\n",
    "\n",
    "mae_prophet = mean_absolute_error(df_test['Último'], prophet_pred.loc[df_test.index]['yhat'])\n",
    "rmse_prophet = mean_squared_error(df_test['Último'], prophet_pred.loc[df_test.index]['yhat'])\n",
    "mape_prophet = 100 * mean_absolute_percentage_error(df_test['Último'], prophet_pred.loc[df_test.index]['yhat'])\n",
    "\n",
    "mae_rf = mean_absolute_error(df_test['Último'], rf_pred)\n",
    "rmse_rf = mean_squared_error(df_test['Último'], rf_pred)\n",
    "mape_rf = 100 * mean_absolute_percentage_error(df_test['Último'], rf_pred)\n",
    "\n",
    "\n",
    "resultados = pd.DataFrame(\n",
    "    {\n",
    "        \"Modelo\": [\"XGBoost\", \"Naive\", \"Arima\", \"Prophet\", \"Random Forest\"],\n",
    "        \"MAE\": [mae_xgb, mae_naive, mae_arima, mae_prophet, mae_rf],\n",
    "        \"RMSE\": [rmse_xgb, rmse_naive, rmse_arima, rmse_prophet, rmse_rf],\n",
    "        \"MAPE (%)\": [mape_xgb, mape_naive, mape_arima, mape_prophet, mape_rf],\n",
    "        \"Accuracy (%)\": [\n",
    "            100 - mape for mape in [mape_xgb, mape_naive, mape_arima, mape_prophet, mape_rf]\n",
    "        ],\n",
    "    }\n",
    ").sort_values(\"MAPE (%)\").reset_index(drop=True)\n",
    "\n",
    "resultados\n"
   ]
  },
  {
   "cell_type": "markdown",
   "metadata": {},
   "source": [
    "### VISUALIZAÇÃO DE TODOS OS TESTE"
   ]
  },
  {
   "cell_type": "code",
   "execution_count": null,
   "metadata": {},
   "outputs": [],
   "source": [
    "historic_filter = historic_df.copy().tail(60)\n",
    "delta_date = historic_filter[:train_end]['Último'].iloc[-1] - historic_filter['Último'].iloc[0]\n",
    "line_trend = delta_date/(len(historic_filter[:train_end])-1)\n",
    "historic_filter['Trend'] = (line_trend * range(len(historic_filter))) + historic_filter['Último'].iloc[0]\n",
    "\n",
    "\n",
    "naive_filter = naive_pred.tail(20)\n",
    "\n",
    "\n",
    "fig, ax = plt.subplots(figsize=(12,6))\n",
    "\n",
    "# Fechamento act\n",
    "line2, = ax.plot(historic_filter.index, historic_filter['Último'], color='red', label='Fechamento Act')\n",
    "\n",
    "# Linha de tendência\n",
    "line3, = ax.plot(historic_filter.index, historic_filter['Trend'], \n",
    "                 color='black', label='Trend Line', linestyle=':', linewidth=0.5)\n",
    "\n",
    "# Previsão Naive \n",
    "line4, = ax.plot(df_test.index, naive_filter.loc[df_test.index], color='green', linestyle=':', linewidth=1.5, label='Naive Pred')\n",
    "\n",
    "# Previsão XGBoost\n",
    "line5, = ax.plot(df_test.index, xgb_pred_df.loc[df_test.index], color='blue', linestyle=':', linewidth=1.5, label='XGB Pred')\n",
    "\n",
    "# Previsão Arima\n",
    "line6, = ax.plot(df_test.index, arima_pred_df.loc[df_test.index], color='orange', linestyle=':', linewidth=1.5, label='Arima Pred')\n",
    "\n",
    "# Previsão Prophet\n",
    "line7, = ax.plot(df_test.index, prophet_pred_df.loc[df_test.index], color='black', linestyle=':', linewidth=1.5, label='Prophet Pred')\n",
    "\n",
    "# Previsão Prophet\n",
    "line8, = ax.plot(df_test.index, rf_pred_df.loc[df_test.index], color='gray', linestyle=':', linewidth=1.5, label='Random Forest')\n",
    "\n",
    "ax.set_ylabel('Fechamento da Bolsa')\n",
    "ax.tick_params(axis='y')\n",
    "\n",
    "# Título e legenda\n",
    "lines = [line2, line3, line4, line5, line6, line7, line8]  # A lista de objetos de linha\n",
    "# Usando get_label() corretamente\n",
    "labels = [line.get_label() for line in lines]\n",
    "ax.legend(lines, labels, loc='upper left')\n",
    "ax.set_ylim(top=140)\n",
    "\n",
    "\n",
    "plt.title('60 dias - Act x Trend x Naive x XGBoost x Prophet x Random Forest')\n",
    "fig.tight_layout()\n",
    "\n",
    "plt.show()"
   ]
  },
  {
   "cell_type": "markdown",
   "metadata": {},
   "source": [
    "### CRIAÇÃO DE INTERVALO DE SEGURANÇA COM RANDOM FOREST"
   ]
  },
  {
   "cell_type": "code",
   "execution_count": null,
   "metadata": {},
   "outputs": [],
   "source": [
    "predictions = np.array([tree.predict(X_test_rf) for tree in rf_model.estimators_])\n",
    "\n",
    "# Média das previsões (previsão final)\n",
    "rf_pred = predictions.mean(axis=0)\n",
    "std_dev = predictions.std(axis=0)\n",
    "lower_bound = rf_pred - 1.96 * std_dev  # Intervalo inferior\n",
    "upper_bound = rf_pred + 1.96 * std_dev  # Intervalo superior\n",
    "\n",
    "rf_intervalo = pd.DataFrame({\n",
    "    'pred': rf_pred,\n",
    "    'lower': lower_bound,\n",
    "    'upper': upper_bound\n",
    "}, index=df_test.index)"
   ]
  },
  {
   "cell_type": "markdown",
   "metadata": {},
   "source": [
    "### VISUALIZAÇÃO DE PREDIÇÃO COM INTERVALO DE SEGURANÇA RF"
   ]
  },
  {
   "cell_type": "code",
   "execution_count": null,
   "metadata": {},
   "outputs": [],
   "source": [
    "historic_filter = historic_df.copy()#.tail(90)\n",
    "delta_date = historic_filter[:train_end]['Último'].iloc[-1] - historic_filter['Último'].iloc[0]\n",
    "line_trend = delta_date/(len(historic_filter[:train_end])-1)\n",
    "historic_filter['Trend'] = (line_trend * range(len(historic_filter))) + historic_filter['Último'].iloc[0]\n",
    "\n",
    "fig, ax = plt.subplots(figsize=(12,6))\n",
    "\n",
    "# Plot histórico\n",
    "ax.plot(historic_filter.index, historic_filter['Último'], label='Histórico (Train)', color='steelblue', linewidth=2)\n",
    "\n",
    "# Plot Previsão Random Forest\n",
    "ax.plot(rf_intervalo.index, rf_intervalo['pred'], label='Previsão RF', color='darkmagenta', linestyle='--', linewidth=2)\n",
    "ax.plot(df_test.index, df_test['Último'], label='Actual', color='red', linestyle='-', linewidth=2)\n",
    "\n",
    "# Plot faixa de intervalo de confiança (shaded area)\n",
    "ax.fill_between(rf_intervalo.index, \n",
    "                rf_intervalo['lower'], \n",
    "                rf_intervalo['upper'], \n",
    "                color='plum', alpha=0.3, label='Intervalo de Confiança (RF)')\n",
    "\n",
    "# Linha de referência (último valor do histórico)\n",
    "ax.plot(historic_filter.index, historic_filter['Trend'], color='gray', linestyle=':', linewidth=1.5, label='Trend Line')\n",
    "\n",
    "\n",
    "# Eixos\n",
    "ax.set_title('Histórico e Previsão - Random Forest com Intervalo de Confiança', fontsize=14, fontweight='bold')\n",
    "ax.set_ylabel('Fechamento')\n",
    "ax.set_xlabel('Data')\n",
    "\n",
    "# Estética\n",
    "ax.legend(loc='upper center', bbox_to_anchor=(0.5, -0.15), ncol=5, frameon=False)\n",
    "ax.grid(True)\n",
    "plt.tight_layout()\n",
    "plt.show()\n"
   ]
  }
 ],
 "metadata": {
  "kernelspec": {
   "display_name": "Python 3",
   "language": "python",
   "name": "python3"
  },
  "language_info": {
   "codemirror_mode": {
    "name": "ipython",
    "version": 3
   },
   "file_extension": ".py",
   "mimetype": "text/x-python",
   "name": "python",
   "nbconvert_exporter": "python",
   "pygments_lexer": "ipython3",
   "version": "3.9.6"
  }
 },
 "nbformat": 4,
 "nbformat_minor": 2
}
