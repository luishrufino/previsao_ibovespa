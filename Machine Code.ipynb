{
 "cells": [
  {
   "cell_type": "code",
   "execution_count": null,
   "metadata": {},
   "outputs": [],
   "source": [
    "import numpy as np\n",
    "import pandas as pd\n",
    "import seaborn as sns\n",
    "import matplotlib.pyplot as plt\n",
    "from statsmodels.tsa.stattools import acf, pacf\n",
    "from statsmodels.tsa.seasonal import seasonal_decompose\n"
   ]
  },
  {
   "cell_type": "code",
   "execution_count": 70,
   "metadata": {},
   "outputs": [
    {
     "name": "stderr",
     "output_type": "stream",
     "text": [
      "C:\\Users\\dhlui\\AppData\\Local\\Temp\\ipykernel_12060\\1969224291.py:1: UserWarning: Parsing dates in %d.%m.%Y format when dayfirst=False (the default) was specified. Pass `dayfirst=True` or specify a format to silence this warning.\n",
      "  historic_df = pd.read_csv(r'Base de Dados//Dados Históricos - Ibovespa.csv', parse_dates=['Data'], index_col='Data')\n"
     ]
    }
   ],
   "source": [
    "historic_df = pd.read_csv(r'Base de Dados//Dados Históricos - Ibovespa.csv', parse_dates=['Data'], index_col='Data')\n",
    "\n",
    "historic_df['Var%'] = historic_df['Var%'].str.replace('%', '').str.replace(',', '.').astype(float)\n",
    "\n",
    "historic_df['Vol.'] = historic_df['Vol.'].str.replace(',', '.')\n",
    "historic_df['Vol.'] = historic_df['Vol.'].apply(\n",
    "    lambda x: float(str(x)[:-1].replace(',', '.'))/1_000  if str(x)[-1] == 'K'\n",
    "    else float(str(x)[:-1].replace(',', '.')) if str(x)[-1] == 'M'\n",
    "    else float(str(x)[:-1].replace(',', '.')) * 1_000 if str(x)[-1] == 'B'\n",
    "    else float(str(x).replace(',', '.'))/1_000_000 )\n",
    "\n",
    "historic_df.rename(columns={'Vol.':'Vol (M)'}, inplace=True)"
   ]
  },
  {
   "cell_type": "code",
   "execution_count": 71,
   "metadata": {},
   "outputs": [
    {
     "name": "stdout",
     "output_type": "stream",
     "text": [
      "<class 'pandas.core.frame.DataFrame'>\n",
      "DatetimeIndex: 4975 entries, 2025-02-28 to 2005-02-01\n",
      "Data columns (total 6 columns):\n",
      " #   Column    Non-Null Count  Dtype  \n",
      "---  ------    --------------  -----  \n",
      " 0   Último    4975 non-null   float64\n",
      " 1   Abertura  4975 non-null   float64\n",
      " 2   Máxima    4975 non-null   float64\n",
      " 3   Mínima    4975 non-null   float64\n",
      " 4   Vol (M)   4974 non-null   float64\n",
      " 5   Var%      4975 non-null   float64\n",
      "dtypes: float64(6)\n",
      "memory usage: 272.1 KB\n"
     ]
    }
   ],
   "source": [
    "historic_df.info()"
   ]
  },
  {
   "cell_type": "code",
   "execution_count": 72,
   "metadata": {},
   "outputs": [
    {
     "data": {
      "text/html": [
       "<div>\n",
       "<style scoped>\n",
       "    .dataframe tbody tr th:only-of-type {\n",
       "        vertical-align: middle;\n",
       "    }\n",
       "\n",
       "    .dataframe tbody tr th {\n",
       "        vertical-align: top;\n",
       "    }\n",
       "\n",
       "    .dataframe thead th {\n",
       "        text-align: right;\n",
       "    }\n",
       "</style>\n",
       "<table border=\"1\" class=\"dataframe\">\n",
       "  <thead>\n",
       "    <tr style=\"text-align: right;\">\n",
       "      <th></th>\n",
       "      <th>Último</th>\n",
       "      <th>Abertura</th>\n",
       "      <th>Máxima</th>\n",
       "      <th>Mínima</th>\n",
       "      <th>Vol (M)</th>\n",
       "      <th>Var%</th>\n",
       "    </tr>\n",
       "  </thead>\n",
       "  <tbody>\n",
       "    <tr>\n",
       "      <th>count</th>\n",
       "      <td>4975.000000</td>\n",
       "      <td>4975.000000</td>\n",
       "      <td>4975.00000</td>\n",
       "      <td>4975.000000</td>\n",
       "      <td>4974.000000</td>\n",
       "      <td>4975.000000</td>\n",
       "    </tr>\n",
       "    <tr>\n",
       "      <th>mean</th>\n",
       "      <td>72.804747</td>\n",
       "      <td>72.785524</td>\n",
       "      <td>73.48200</td>\n",
       "      <td>72.096099</td>\n",
       "      <td>101.445068</td>\n",
       "      <td>0.046434</td>\n",
       "    </tr>\n",
       "    <tr>\n",
       "      <th>std</th>\n",
       "      <td>29.263901</td>\n",
       "      <td>29.263293</td>\n",
       "      <td>29.41898</td>\n",
       "      <td>29.110370</td>\n",
       "      <td>953.410290</td>\n",
       "      <td>1.664503</td>\n",
       "    </tr>\n",
       "    <tr>\n",
       "      <th>min</th>\n",
       "      <td>23.887000</td>\n",
       "      <td>23.883000</td>\n",
       "      <td>24.26000</td>\n",
       "      <td>23.680000</td>\n",
       "      <td>0.112100</td>\n",
       "      <td>-14.780000</td>\n",
       "    </tr>\n",
       "    <tr>\n",
       "      <th>25%</th>\n",
       "      <td>51.837000</td>\n",
       "      <td>51.833000</td>\n",
       "      <td>52.40950</td>\n",
       "      <td>51.251500</td>\n",
       "      <td>2.820000</td>\n",
       "      <td>-0.820000</td>\n",
       "    </tr>\n",
       "    <tr>\n",
       "      <th>50%</th>\n",
       "      <td>63.479000</td>\n",
       "      <td>63.477000</td>\n",
       "      <td>64.05500</td>\n",
       "      <td>62.826000</td>\n",
       "      <td>4.450000</td>\n",
       "      <td>0.060000</td>\n",
       "    </tr>\n",
       "    <tr>\n",
       "      <th>75%</th>\n",
       "      <td>100.598000</td>\n",
       "      <td>100.570500</td>\n",
       "      <td>101.56550</td>\n",
       "      <td>99.684500</td>\n",
       "      <td>10.920000</td>\n",
       "      <td>0.940000</td>\n",
       "    </tr>\n",
       "    <tr>\n",
       "      <th>max</th>\n",
       "      <td>137.344000</td>\n",
       "      <td>137.349000</td>\n",
       "      <td>137.46900</td>\n",
       "      <td>136.664000</td>\n",
       "      <td>24870.000000</td>\n",
       "      <td>14.660000</td>\n",
       "    </tr>\n",
       "  </tbody>\n",
       "</table>\n",
       "</div>"
      ],
      "text/plain": [
       "            Último     Abertura      Máxima       Mínima       Vol (M)  \\\n",
       "count  4975.000000  4975.000000  4975.00000  4975.000000   4974.000000   \n",
       "mean     72.804747    72.785524    73.48200    72.096099    101.445068   \n",
       "std      29.263901    29.263293    29.41898    29.110370    953.410290   \n",
       "min      23.887000    23.883000    24.26000    23.680000      0.112100   \n",
       "25%      51.837000    51.833000    52.40950    51.251500      2.820000   \n",
       "50%      63.479000    63.477000    64.05500    62.826000      4.450000   \n",
       "75%     100.598000   100.570500   101.56550    99.684500     10.920000   \n",
       "max     137.344000   137.349000   137.46900   136.664000  24870.000000   \n",
       "\n",
       "              Var%  \n",
       "count  4975.000000  \n",
       "mean      0.046434  \n",
       "std       1.664503  \n",
       "min     -14.780000  \n",
       "25%      -0.820000  \n",
       "50%       0.060000  \n",
       "75%       0.940000  \n",
       "max      14.660000  "
      ]
     },
     "execution_count": 72,
     "metadata": {},
     "output_type": "execute_result"
    }
   ],
   "source": [
    "historic_df.describe()"
   ]
  }
 ],
 "metadata": {
  "kernelspec": {
   "display_name": "Python 3",
   "language": "python",
   "name": "python3"
  },
  "language_info": {
   "codemirror_mode": {
    "name": "ipython",
    "version": 3
   },
   "file_extension": ".py",
   "mimetype": "text/x-python",
   "name": "python",
   "nbconvert_exporter": "python",
   "pygments_lexer": "ipython3",
   "version": "3.9.6"
  }
 },
 "nbformat": 4,
 "nbformat_minor": 2
}
