{
 "cells": [
  {
   "cell_type": "code",
   "execution_count": null,
   "metadata": {},
   "outputs": [
    {
     "name": "stdout",
     "output_type": "stream",
     "text": [
      "         Data   Último  Abertura   Máxima   Mínima    Vol.    Var%\n",
      "0  19.03.2025  132.508   131.476  132.984  131.451  12,20B  +0.79%\n",
      "1  19.03.2025  132.508   131.476  132.984  131.451  12,20B  +0.79%\n",
      "2  18.03.2025  131.475   130.832  131.834  130.722  10,99B  +0.49%\n",
      "3  18.03.2025  131.475   130.832  131.834  130.722  10,99B  +0.49%\n",
      "4  17.03.2025  130.834   128.959  131.313  128.957  11,06B  +1.46%\n"
     ]
    },
    {
     "name": "stderr",
     "output_type": "stream",
     "text": [
      "C:\\Users\\dhlui\\AppData\\Local\\Temp\\ipykernel_10084\\3731603029.py:34: FutureWarning: Passing literal html to 'read_html' is deprecated and will be removed in a future version. To read from a literal string, wrap it in a 'StringIO' object.\n",
      "  df = pd.read_html(str(tabela))[0]\n"
     ]
    }
   ],
   "source": [
    "import requests as rq\n",
    "import pandas as pd\n",
    "from bs4 import BeautifulSoup as bs\n",
    "\n",
    "\n",
    "# Parâmetros do formulário (extraídos do site)\n",
    "headers = {\n",
    "    \"User-Agent\": \"Mozilla/5.0\",\n",
    "    \"X-Requested-With\": \"XMLHttpRequest\",\n",
    "    \"Content-Type\": \"application/x-www-form-urlencoded\"\n",
    "}\n",
    "\n",
    "\n",
    "# Requisição POST à API interna\n",
    "url = \"https://br.investing.com/indices/bovespa-historical-data\"\n",
    "response = rq.get(url, headers=headers)\n",
    "\n",
    "# Parsear HTML da resposta com BeautifulSoup\n",
    "soup = bs(response.content)\n",
    "tabela = soup.find(\"table\")\n",
    "\n",
    "# Converter a tabela para DataFrame\n",
    "df = pd.read_html(str(tabela))[0]\n",
    "print(df.head())\n"
   ]
  }
 ],
 "metadata": {
  "kernelspec": {
   "display_name": "Python 3",
   "language": "python",
   "name": "python3"
  },
  "language_info": {
   "codemirror_mode": {
    "name": "ipython",
    "version": 3
   },
   "file_extension": ".py",
   "mimetype": "text/x-python",
   "name": "python",
   "nbconvert_exporter": "python",
   "pygments_lexer": "ipython3",
   "version": "3.9.6"
  }
 },
 "nbformat": 4,
 "nbformat_minor": 2
}
